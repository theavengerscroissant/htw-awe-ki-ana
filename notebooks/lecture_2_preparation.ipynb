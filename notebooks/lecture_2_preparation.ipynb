{
    "cells": [
        {
            "cell_type": "markdown",
            "metadata": {},
            "source": [
                "# Notebook 2: Explorative Datenanalyse (EDA) und Datenvorverarbeitung\n",
                "\n",
                "## Detaillierte EDA\n",
                "\n",
                "### Berechnung und Visualisierung von Korrelationen"
            ]
        },
        {
            "cell_type": "markdown",
            "metadata": {},
            "source": [
                "[![Open In Colab](https://colab.research.google.com/assets/colab-badge.svg)](https://colab.research.google.com/github/theavengerscroissant/htw-awe-ki-ana/blob/main/notebooks/lecture_2_preparation.ipynb)"
            ]
        },
        {
            "cell_type": "code",
            "execution_count": null,
            "metadata": {},
            "outputs": [],
            "source": [
                "%pip install scikit-learn matplotlib numpy pandas"
            ]
        },
        {
            "cell_type": "code",
            "execution_count": null,
            "metadata": {},
            "outputs": [],
            "source": [
                "import pandas as pd\n",
                "import matplotlib.pyplot as plt\n",
                "import numpy as np\n",
                "\n",
                "# Laden des Beispiel-Datensatzes (California Housing Dataset)\n",
                "from sklearn.datasets import fetch_california_housing\n",
                "california_housing = fetch_california_housing()\n",
                "df_california_housing = pd.DataFrame(california_housing.data, columns=california_housing.feature_names)"
            ]
        },
        {
            "cell_type": "code",
            "execution_count": null,
            "metadata": {},
            "outputs": [],
            "source": [
                "print(california_housing.target[:5])  # Zeigt die ersten 5 Werte des Targets"
            ]
        },
        {
            "cell_type": "markdown",
            "metadata": {},
            "source": [
                "### Aufgaben für Studierende\n",
                "\n",
                "- Berechnet und visualisiert die Korrelationen zwischen den Features und dem Zielwert `MedHouseVal` detaillierter\n",
                "- Identifiziert und visualisiert Ausreißer in den Daten mit verschiedenen Methoden (z. B. Boxplots, Z-Score)\n",
                "- Experimentiert mit verschiedenen Methoden zur Normalisierung und Standardisierung der Daten (z. B. MinMaxScaler, RobustScaler)\n",
                "- Teilt die Daten in verschiedene Trainings-, Test- und Validierungs-Sets auf und vergleicht die Auswirkungen unterschiedlicher Aufteilungsmethoden auf die Modellleistung.\n",
                "- Erstellt zusätzliche Visualisierungen, um die Verteilung der Features und deren Beziehung zum Zielwert besser zu verstehen (z. B. Pairplots, Heatmaps)"
            ]
        }
    ],
    "metadata": {
        "kernelspec": {
            "display_name": "Python 3 (ipykernel)",
            "language": "python",
            "name": "python3"
        },
        "language_info": {
            "codemirror_mode": {
                "name": "ipython",
                "version": 3
            },
            "file_extension": ".py",
            "mimetype": "text/x-python",
            "name": "python",
            "nbconvert_exporter": "python",
            "pygments_lexer": "ipython3",
            "version": "3.10.11"
        }
    },
    "nbformat": 4,
    "nbformat_minor": 2
}
