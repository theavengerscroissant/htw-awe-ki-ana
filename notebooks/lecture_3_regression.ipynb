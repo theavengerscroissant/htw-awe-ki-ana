{
    "cells": [
        {
            "cell_type": "markdown",
            "metadata": {},
            "source": [
                "# Notebook 3: Training und Evaluierung von Regressionsmodellen"
            ]
        },
        {
            "cell_type": "markdown",
            "metadata": {},
            "source": [
                "[![Open In Colab](https://colab.research.google.com/assets/colab-badge.svg)](https://colab.research.google.com/github/theavengerscroissant/htw-awe-ki-ana/blob/main/notebooks/lecture_3_regression.ipynb)"
            ]
        },
        {
            "cell_type": "code",
            "execution_count": null,
            "metadata": {},
            "outputs": [],
            "source": [
                "%pip install scikit-learn matplotlib numpy pandas"
            ]
        },
        {
            "cell_type": "code",
            "execution_count": null,
            "metadata": {},
            "outputs": [],
            "source": [
                "import pandas as pd\n",
                "import numpy as np\n",
                "import matplotlib.pyplot as plt\n",
                "from sklearn.datasets import fetch_california_housing\n",
                "from sklearn.model_selection import train_test_split\n",
                "from sklearn.linear_model import LinearRegression\n",
                "from sklearn.tree import DecisionTreeRegressor\n",
                "from sklearn.ensemble import RandomForestRegressor\n",
                "from sklearn.metrics import mean_squared_error, mean_absolute_error, r2_score\n"
            ]
        },
        {
            "cell_type": "code",
            "execution_count": null,
            "metadata": {},
            "outputs": [],
            "source": [
                "# Laden des Beispiel-Datensatzes (California Housing Dataset)\n",
                "california_housing = fetch_california_housing()\n",
                "df_california_housing = pd.DataFrame(california_housing.data, columns=california_housing.feature_names)\n",
                "df_california_housing['MedHouseVal'] = california_housing.target\n",
                "\n",
                "# Aufteilen der Daten in Trainings-, Test- und Validierungs-Sets\n",
                "X = df_california_housing.drop('MedHouseVal', axis=1)\n",
                "y = df_california_housing['MedHouseVal']\n",
                "X_train, X_temp, y_train, y_temp = train_test_split(X, y, test_size=0.4, random_state=42)\n",
                "X_test, X_val, y_test, y_val = train_test_split(X_temp, y_temp, test_size=0.5, random_state=42)\n"
            ]
        },
        {
            "cell_type": "code",
            "execution_count": null,
            "metadata": {},
            "outputs": [],
            "source": [
                "\n",
                "# Training eines linearen Modells\n",
                "linear_reg = LinearRegression()\n",
                "linear_reg.fit(X_train, y_train)"
            ]
        },
        {
            "cell_type": "code",
            "execution_count": null,
            "metadata": {},
            "outputs": [],
            "source": [
                "# Evaluierung der Modelle\n",
                "models = {'Linear Regression': linear_reg}\n",
                "for name, model in models.items():\n",
                "    y_pred = model.predict(X_val)\n",
                "    rmse = np.sqrt(mean_squared_error(y_val, y_pred))\n",
                "    mae = mean_absolute_error(y_val, y_pred)\n",
                "    r2 = r2_score(y_val, y_pred)\n",
                "    print(f'{name} - RMSE: {rmse}, MAE: {mae}, R²: {r2}')"
            ]
        },
        {
            "cell_type": "code",
            "execution_count": null,
            "metadata": {},
            "outputs": [],
            "source": [
                "# Visualisierung der Ergebnisse\n",
                "plt.figure(figsize=(12, 8))\n",
                "plt.scatter(y_val, linear_reg.predict(X_val), alpha=0.5, label='Linear Regression')\n",
                "plt.plot([y_val.min(), y_val.max()], [y_val.min(), y_val.max()], 'k--', lw=2)\n",
                "plt.xlabel('Tatsächliche Werte')\n",
                "plt.ylabel('Vorhergesagte Werte')\n",
                "plt.legend()\n",
                "plt.show()"
            ]
        },
        {
            "cell_type": "markdown",
            "metadata": {},
            "source": [
                "### Aufgaben für Studierende\n",
                "\n",
                "- Fügt weitere Modelle hinzu und vergleicht deren Leistung\n",
                "- Experimentiert mit verschiedenen Hyperparametern für die Entscheidungsbaum- und Random Forest-Modelle\n",
                "- Visualisiert die Fehlerverteilung der Modelle\n",
                "- Implementiert eine Kreuzvalidierung zur besseren Evaluierung der Modelle"
            ]
        }
    ],
    "metadata": {
        "kernelspec": {
            "display_name": "Python 3 (ipykernel)",
            "language": "python",
            "name": "python3"
        },
        "language_info": {
            "codemirror_mode": {
                "name": "ipython",
                "version": 3
            },
            "file_extension": ".py",
            "mimetype": "text/x-python",
            "name": "python",
            "nbconvert_exporter": "python",
            "pygments_lexer": "ipython3",
            "version": "3.10.11"
        }
    },
    "nbformat": 4,
    "nbformat_minor": 2
}
