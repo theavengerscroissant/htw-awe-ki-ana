{
    "cells": [
        {
            "cell_type": "markdown",
            "metadata": {},
            "source": [
                "# Notebook 4: Hyperparameter-Tuning und Modelloptimierung"
            ]
        },
        {
            "cell_type": "markdown",
            "metadata": {},
            "source": [
                "[![Open In Colab](https://colab.research.google.com/assets/colab-badge.svg)](https://colab.research.google.com/github/theavengerscroissant/htw-awe-ki-ana/blob/main/notebooks/lecture_4_optimization.ipynb)"
            ]
        },
        {
            "cell_type": "code",
            "execution_count": null,
            "metadata": {},
            "outputs": [],
            "source": [
                "%pip install scikit-learn matplotlib numpy pandas"
            ]
        },
        {
            "cell_type": "code",
            "execution_count": null,
            "metadata": {},
            "outputs": [],
            "source": [
                "import pandas as pd\n",
                "import numpy as np\n",
                "import matplotlib.pyplot as plt\n",
                "from sklearn.datasets import fetch_california_housing\n",
                "from sklearn.model_selection import train_test_split, GridSearchCV, RandomizedSearchCV, cross_val_score\n",
                "from sklearn.tree import DecisionTreeRegressor\n",
                "from sklearn.ensemble import RandomForestRegressor\n",
                "from sklearn.metrics import mean_squared_error, mean_absolute_error, r2_score\n"
            ]
        },
        {
            "cell_type": "code",
            "execution_count": null,
            "metadata": {},
            "outputs": [],
            "source": [
                "# Laden des Beispiel-Datensatzes (California Housing Dataset)\n",
                "california_housing = fetch_california_housing()\n",
                "df_california_housing = pd.DataFrame(california_housing.data, columns=california_housing.feature_names)\n",
                "df_california_housing['MedHouseVal'] = california_housing.target\n",
                "\n",
                "# Aufteilen der Daten in Trainings-, Test- und Validierungs-Sets\n",
                "X = df_california_housing.drop('MedHouseVal', axis=1)\n",
                "y = df_california_housing['MedHouseVal']\n",
                "X_train, X_temp, y_train, y_temp = train_test_split(X, y, test_size=0.4, random_state=42)\n",
                "X_test, X_val, y_test, y_val = train_test_split(X_temp, y_temp, test_size=0.5, random_state=42)\n"
            ]
        },
        {
            "cell_type": "markdown",
            "metadata": {},
            "source": [
                "### Anwendung des Tunings auf Modelle wie Entscheidungsbäume"
            ]
        },
        {
            "cell_type": "code",
            "execution_count": null,
            "metadata": {},
            "outputs": [],
            "source": [
                "# GridSearchCV für DecisionTreeRegressor\n",
                "param_grid = {\n",
                "    'max_depth': [3, 5, 7, 10],\n",
                "    'min_samples_split': [2, 5, 10],\n",
                "    'min_samples_leaf': [1, 2, 4]\n",
                "}\n",
                "\n",
                "grid_search = GridSearchCV(DecisionTreeRegressor(), param_grid, cv=5, scoring='neg_mean_squared_error')\n",
                "grid_search.fit(X_train, y_train)\n",
                "\n",
                "print(f'Best parameters: {grid_search.best_params_}')\n",
                "print(f'Best score: {np.sqrt(-grid_search.best_score_)}')"
            ]
        },
        {
            "cell_type": "markdown",
            "metadata": {},
            "source": [
                "### Kreuzvalidierung"
            ]
        },
        {
            "cell_type": "code",
            "execution_count": null,
            "metadata": {},
            "outputs": [],
            "source": [
                "# k-fold Cross Validation für RandomForestRegressor\n",
                "param_dist = {\n",
                "    'n_estimators': [50, 100, 200],\n",
                "    'max_features': ['sqrt', 'log2'],\n",
                "    'max_depth': [None, 10, 20, 30],\n",
                "    'min_samples_split': [2, 5, 10],\n",
                "    'min_samples_leaf': [1, 2, 4]\n",
                "}\n",
                "\n",
                "random_search = RandomizedSearchCV(RandomForestRegressor(), param_dist, error_score='raise', n_iter=10, cv=5, scoring='neg_mean_squared_error', random_state=42)\n",
                "random_search.fit(X_train, y_train)\n",
                "\n",
                "print(f'Best parameters: {random_search.best_params_}')\n",
                "print(f'Best score: {np.sqrt(-random_search.best_score_)}')"
            ]
        },
        {
            "cell_type": "markdown",
            "metadata": {},
            "source": [
                "### Modelloptimierung"
            ]
        },
        {
            "cell_type": "code",
            "execution_count": null,
            "metadata": {},
            "outputs": [],
            "source": [
                "# Vergleich optimierter Modelle mit den Baseline-Modellen aus Notebook 3\n",
                "best_tree_model = grid_search.best_estimator_\n",
                "best_forest_model = random_search.best_estimator_\n",
                "\n",
                "models = {'Best Decision Tree': best_tree_model, 'Best Random Forest': best_forest_model}\n",
                "for name, model in models.items():\n",
                "    y_pred = model.predict(X_val)\n",
                "    rmse = np.sqrt(mean_squared_error(y_val, y_pred))\n",
                "    mae = mean_absolute_error(y_val, y_pred)\n",
                "    r2 = r2_score(y_val, y_pred)\n",
                "    print(f'{name} - RMSE: {rmse}, MAE: {mae}, R²: {r2}')"
            ]
        },
        {
            "cell_type": "markdown",
            "metadata": {},
            "source": [
                "### Aufgaben für Studierende\n",
                "\n",
                "- Experimentiert mit verschiedenen Hyperparametern für GridSearchCV und RandomizedSearchCV\n",
                "- Visualisiert die Tuning-Ergebnisse für verschiedene Hyperparameter\n",
                "- Vergleicht die Leistung der optimierten Modelle mit den Baseline-Modellen aus Notebook 3"
            ]
        }
    ],
    "metadata": {
        "kernelspec": {
            "display_name": "Python 3 (ipykernel)",
            "language": "python",
            "name": "python3"
        },
        "language_info": {
            "codemirror_mode": {
                "name": "ipython",
                "version": 3
            },
            "file_extension": ".py",
            "mimetype": "text/x-python",
            "name": "python",
            "nbconvert_exporter": "python",
            "pygments_lexer": "ipython3",
            "version": "3.10.11"
        }
    },
    "nbformat": 4,
    "nbformat_minor": 2
}
